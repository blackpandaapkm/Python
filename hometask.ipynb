{
  "nbformat": 4,
  "nbformat_minor": 0,
  "metadata": {
    "colab": {
      "provenance": [],
      "include_colab_link": true
    },
    "kernelspec": {
      "name": "python3",
      "display_name": "Python 3"
    },
    "language_info": {
      "name": "python"
    }
  },
  "cells": [
    {
      "cell_type": "markdown",
      "metadata": {
        "id": "view-in-github",
        "colab_type": "text"
      },
      "source": [
        "<a href=\"https://colab.research.google.com/github/blackpandaapkm/Python/blob/main/hometask.ipynb\" target=\"_parent\"><img src=\"https://colab.research.google.com/assets/colab-badge.svg\" alt=\"Open In Colab\"/></a>"
      ]
    },
    {
      "cell_type": "markdown",
      "source": [
        "১. বৃত্তের ক্ষেত্রফল নির্ণয় করার প্রোগ্রাম তৈরি করুন।"
      ],
      "metadata": {
        "id": "Ma3MrxcoiA41"
      }
    },
    {
      "cell_type": "code",
      "execution_count": null,
      "metadata": {
        "colab": {
          "base_uri": "https://localhost:8080/"
        },
        "id": "L3_JjgbfhQ57",
        "outputId": "b8e2e49e-b4ae-4680-f889-4e5032b4e879"
      },
      "outputs": [
        {
          "output_type": "stream",
          "name": "stdout",
          "text": [
            "Enter the radius of the circle: 5\n",
            "The area of the circle is  78.54\n"
          ]
        }
      ],
      "source": [
        "pi=3.1416\n",
        "r = float(input(\"Enter the radius of the circle: \"))\n",
        "area = pi * r*r\n",
        "print(\"The area of the circle is \", area)"
      ]
    },
    {
      "cell_type": "markdown",
      "source": [
        "২. ত্রিভুজের ক্ষেত্রফল নির্ণয় করার প্রোগ্রাম তৈরি করুন।"
      ],
      "metadata": {
        "id": "U1wGE2hDiF7E"
      }
    },
    {
      "cell_type": "code",
      "source": [
        "b = float(input(\"Enter the base length of the triangle: \"))\n",
        "h = float(input(\"Enter the height of the triangle: \"))\n",
        "triangle_area=0.5*b*h\n",
        "print(\"The area of the triangle is \", triangle_area)"
      ],
      "metadata": {
        "colab": {
          "base_uri": "https://localhost:8080/"
        },
        "id": "IbwZQyIHhuTi",
        "outputId": "6677af34-886a-4690-d148-9e943a9d8948"
      },
      "execution_count": null,
      "outputs": [
        {
          "output_type": "stream",
          "name": "stdout",
          "text": [
            "Enter the base length of the triangle: 10\n",
            "Enter the height of the triangle: 10\n",
            "The area of the triangle is  50.0\n"
          ]
        }
      ]
    },
    {
      "cell_type": "markdown",
      "source": [
        "৩. তিনটি সংখ্যার ভিতর বৃহত্তর সংখ্যাটি নির্ণয় করার প্রোগ্রাম তৈরি করুন।"
      ],
      "metadata": {
        "id": "Vl7WHQcbkxKa"
      }
    },
    {
      "cell_type": "code",
      "source": [
        "a = input(\"Enter 1st number \")\n",
        "b = input(\"Enter 2nd number \")\n",
        "c = input(\"Enter 3rd number \")\n",
        "if (a >= b and a >= c):\n",
        "  print(\"1st number is biggest\")\n",
        "elif (b >= a and b >= c):\n",
        "  print(\"2nd number is biggest\")\n",
        "else:\n",
        "  print(\"3rd number is biggest\")"
      ],
      "metadata": {
        "colab": {
          "base_uri": "https://localhost:8080/"
        },
        "id": "Pn0rKV7wjGEb",
        "outputId": "99043dfe-e25b-4108-ecec-3bafad1b9530"
      },
      "execution_count": null,
      "outputs": [
        {
          "output_type": "stream",
          "name": "stdout",
          "text": [
            "Enter 1st number 5\n",
            "Enter 2nd number 6\n",
            "Enter 3rd number 7\n",
            "3rd number is biggest\n"
          ]
        }
      ]
    }
  ]
}