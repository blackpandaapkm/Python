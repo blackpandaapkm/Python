{
  "nbformat": 4,
  "nbformat_minor": 0,
  "metadata": {
    "colab": {
      "provenance": [],
      "toc_visible": true,
      "include_colab_link": true
    },
    "kernelspec": {
      "name": "python3",
      "display_name": "Python 3"
    },
    "language_info": {
      "name": "python"
    }
  },
  "cells": [
    {
      "cell_type": "markdown",
      "metadata": {
        "id": "view-in-github",
        "colab_type": "text"
      },
      "source": [
        "<a href=\"https://colab.research.google.com/github/blackpandaapkm/Python/blob/main/Hometask.ipynb\" target=\"_parent\"><img src=\"https://colab.research.google.com/assets/colab-badge.svg\" alt=\"Open In Colab\"/></a>"
      ]
    },
    {
      "cell_type": "markdown",
      "source": [
        "Division\n"
      ],
      "metadata": {
        "id": "Ambkhrn9iVNg"
      }
    },
    {
      "cell_type": "code",
      "source": [
        "def Division(a,b):\n",
        "  result=a/b\n",
        "  print(result)\n",
        "Division(5,2)"
      ],
      "metadata": {
        "colab": {
          "base_uri": "https://localhost:8080/"
        },
        "id": "lhr1FysTiV9X",
        "outputId": "765a1a4e-2732-44f4-849b-0cfd63760edd"
      },
      "execution_count": null,
      "outputs": [
        {
          "output_type": "stream",
          "name": "stdout",
          "text": [
            "2.5\n"
          ]
        }
      ]
    },
    {
      "cell_type": "markdown",
      "source": [
        "Factorial"
      ],
      "metadata": {
        "id": "6Lhr4Ryaj8NZ"
      }
    },
    {
      "cell_type": "code",
      "source": [
        "def Factorial(a):\n",
        "  if a == 0:\n",
        "    return 1;\n",
        "  else:\n",
        "    return a*Factorial(a-1);\n",
        "\n",
        "result = Factorial(12)\n",
        "print(result)"
      ],
      "metadata": {
        "colab": {
          "base_uri": "https://localhost:8080/"
        },
        "id": "PdINOZp-junZ",
        "outputId": "1f7e9be8-dc2a-49a7-d3f4-bede22794af6"
      },
      "execution_count": null,
      "outputs": [
        {
          "output_type": "stream",
          "name": "stdout",
          "text": [
            "479001600\n"
          ]
        }
      ]
    }
  ]
}